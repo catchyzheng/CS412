{
 "cells": [
  {
   "cell_type": "code",
   "execution_count": null,
   "metadata": {},
   "outputs": [],
   "source": [
    "# hw5 problem 2(a)\n",
    "import copy\n",
    "training = [[1,0.5,1], [2,1.2,1], [2.5,2,1], [3,2,1], [1.5,2,-1], [2.3,3,-1], [1.2,1.9,-1], [0.8,1,-1]]\n",
    "testing = [[2.7,2.7,1], [2.5,1,1], [1.5,2.5,-1], [1.2,1,-1]]\n",
    "\n",
    "for line in testing:\n",
    "    tmp = copy.deepcopy(training)\n",
    "    tmp = sorted(tmp, key = lambda sam : (sam[0]-line[0])*(sam[0]-line[0]) + (sam[1]-line[1])*(sam[1]-line[1]))\n",
    "    print tmp\n",
    "    "
   ]
  },
  {
   "cell_type": "code",
   "execution_count": null,
   "metadata": {},
   "outputs": [],
   "source": [
    "# hw5 problem 3(a)\n",
    "import copy\n",
    "training = [[1, 1, 3],[2, 1, 2], [3, 2, 1], [4, 2, 2], [5, 2, 3], [6, 3, 2], [7, 5, 3], [8, 4, 3],[9, 4, 5],[10, 5, 4],\n",
    "[11, 5, 5],[12, 6, 4],[13, 6, 5]]\n",
    "\n",
    "p = [[1, 0, 3],[2, 6, 4]]\n",
    "cluster = [[], []]\n",
    "old_cluster = []\n",
    "\n",
    "cnt = 0\n",
    "while cnt < 3:\n",
    "    for line in training:\n",
    "        dist0 = (line[1]-p[0][1])*(line[1]-p[0][1])*1.0 + (line[2]-p[0][2])*(line[2]-p[0][2])*1.0\n",
    "        dist1 = (line[1]-p[1][1])*(line[1]-p[1][1])*1.0 + (line[2]-p[1][2])*(line[2]-p[1][2])*1.0\n",
    "        if dist0 <= dist1:\n",
    "            if line not in cluster[0]: cluster[0].append(line)\n",
    "            if line in cluster[1]: cluster[1].remove(line)\n",
    "        else:\n",
    "            if line not in cluster[1]: cluster[1].append(line)\n",
    "            if line in cluster[0]: cluster[0].remove(line)\n",
    "    \n",
    "    sum_ = [0, 0]\n",
    "    for point in cluster[0]:\n",
    "        sum_[0] += point[1]; sum_[1] += point[2]\n",
    "    p[0][1] = sum_[0]*1.0/len(cluster[0])\n",
    "    p[0][2] = sum_[1]*1.0/len(cluster[0])\n",
    "\n",
    "    sum_ = [0, 0]\n",
    "    for point in cluster[1]:\n",
    "        sum_[0] += point[1]; sum_[1] += point[2]\n",
    "    p[1][1] = sum_[0]*1.0/len(cluster[1])\n",
    "    p[1][2] = sum_[1]*1.0/len(cluster[1])\n",
    "    print 'iteration: ', cnt\n",
    "    print 'clus 0:', cluster[0]\n",
    "    print 'center 0: ', p[0]\n",
    "    print 'clus 1:', cluster[1]\n",
    "    print 'center 1: ', p[1]\n",
    "    cnt += 1\n",
    "    \n",
    "    if old_cluster == cluster:\n",
    "        break\n",
    "        \n",
    "    old_cluster = cluster\n",
    "    "
   ]
  },
  {
   "cell_type": "code",
   "execution_count": null,
   "metadata": {},
   "outputs": [],
   "source": [
    "# hw5 problem 3(c)\n",
    "from scipy.cluster.hierarchy import dendrogram, linkage\n",
    "from matplotlib import pyplot as plt\n",
    "X = [[1, 3], [1, 2], [2, 1], [2, 2], [2, 3], [3, 2], [5, 3], [4, 3], [4, 5], [5, 4], [5, 5], [6, 4], [6, 5]]\n",
    "\n",
    "Z = linkage(X, 'single')\n",
    "fig = plt.figure(figsize=(25, 10))\n",
    "dn = dendrogram(Z)\n",
    "plt.show()"
   ]
  }
 ],
 "metadata": {
  "kernelspec": {
   "display_name": "Python 2",
   "language": "python",
   "name": "python2"
  },
  "language_info": {
   "codemirror_mode": {
    "name": "ipython",
    "version": 2
   },
   "file_extension": ".py",
   "mimetype": "text/x-python",
   "name": "python",
   "nbconvert_exporter": "python",
   "pygments_lexer": "ipython2",
   "version": "2.7.15"
  }
 },
 "nbformat": 4,
 "nbformat_minor": 2
}
